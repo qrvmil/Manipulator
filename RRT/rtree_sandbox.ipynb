{
 "cells": [
  {
   "cell_type": "code",
   "execution_count": 1,
   "metadata": {},
   "outputs": [
    {
     "name": "stdout",
     "output_type": "stream",
     "text": [
      "0 [0.0, 0.0, 1.0, 1.0] None\n"
     ]
    }
   ],
   "source": [
    "from rtree import index\n",
    "\n",
    "# Создаем объект Property с настройками (например, для 2D)\n",
    "prop = index.Property()\n",
    "prop.dimension = 2\n",
    "\n",
    "# Создаем индекс с использованием заданных свойств\n",
    "idx = index.Index(properties=prop)\n",
    "\n",
    "# Добавляем элемент в индекс с id=0 и bounding box (xmin, ymin, xmax, ymax)\n",
    "idx.insert(0, (0.0, 0.0, 1.0, 1.0))\n",
    "\n",
    "# При выполнении запроса мы можем получить элементы (Item)\n",
    "for item in idx.intersection((0, 0, 1, 1), objects=True):\n",
    "    print(item.id, item.bbox, item.object)\n"
   ]
  },
  {
   "cell_type": "code",
   "execution_count": 3,
   "metadata": {},
   "outputs": [
    {
     "name": "stdout",
     "output_type": "stream",
     "text": [
      "Есть пересечение с объектами: [0]\n"
     ]
    }
   ],
   "source": [
    "# Предположим, idx — наш индекс, а bbox — bounding box проверяемого объекта\n",
    "bbox = (0.0, 0.0, 3.0, 3.0)\n",
    "collision_ids = list(idx.intersection(bbox))\n",
    "\n",
    "if collision_ids:\n",
    "    print(\"Есть пересечение с объектами:\", collision_ids)\n",
    "else:\n",
    "    print(\"Пересечений не найдено.\")\n"
   ]
  },
  {
   "cell_type": "code",
   "execution_count": 14,
   "metadata": {},
   "outputs": [
    {
     "name": "stdout",
     "output_type": "stream",
     "text": [
      "[0 1 2 3 0 1 2 3]\n",
      "(1, 2, 3, 1, 2, 3)\n"
     ]
    }
   ],
   "source": [
    "import numpy as np\n",
    "np.hstack(([0, 1, 2, 3], [0, 1, 2, 3]))\n",
    "print(np.append([0, 1, 2, 3], [0, 1, 2, 3]))\n",
    "print((1, 2, 3) + (1, 2, 3))\n"
   ]
  },
  {
   "cell_type": "code",
   "execution_count": 16,
   "metadata": {},
   "outputs": [],
   "source": [
    "class Node:\n",
    "    def __init__(self, x, y):\n",
    "        self.x = x\n",
    "        self.y = y"
   ]
  },
  {
   "cell_type": "code",
   "execution_count": 29,
   "metadata": {},
   "outputs": [
    {
     "name": "stdout",
     "output_type": "stream",
     "text": [
      "ID: 0 bbox: [10.0, 10.0, 10.0, 10.0] <__main__.Node object at 0x10580b470>\n"
     ]
    }
   ],
   "source": [
    "# Создаем индекс и добавляем точки (для точек bbox выглядит как (x, y, x, y))\n",
    "idx = index.Index()\n",
    "node1 = Node(10, 10)\n",
    "node2 = Node(20, 20)\n",
    "node3 = Node(30, 30)\n",
    "idx.insert(0, (10, 10, 10, 10), node1)\n",
    "idx.insert(1, (20, 20, 20, 20), node2)\n",
    "idx.insert(2, (30, 30, 30, 30), node3)\n",
    "\n",
    "# Задаем точку запроса, например (15, 15)\n",
    "query_point = (0, 15, 15, 15)\n",
    "\n",
    "# Находим ближайшую точку (num_results=1 означает, что вернется только один ближайший элемент)\n",
    "nearest = list(idx.nearest(query_point, 1, objects=True))\n",
    "\n",
    "for item in nearest:\n",
    "    print(\"ID:\", item.id, \"bbox:\", item.bbox, item.object)"
   ]
  },
  {
   "cell_type": "code",
   "execution_count": 39,
   "metadata": {},
   "outputs": [
    {
     "data": {
      "text/plain": [
       "0.7151964292113375"
      ]
     },
     "execution_count": 39,
     "metadata": {},
     "output_type": "execute_result"
    }
   ],
   "source": [
    "np.random.uniform(0, 1)"
   ]
  },
  {
   "cell_type": "markdown",
   "metadata": {},
   "source": [
    "### Shapely"
   ]
  },
  {
   "cell_type": "code",
   "execution_count": null,
   "metadata": {},
   "outputs": [],
   "source": [
    "from shapely.geometry import LineString, Polygon"
   ]
  },
  {
   "cell_type": "code",
   "execution_count": 4,
   "metadata": {},
   "outputs": [
    {
     "name": "stdout",
     "output_type": "stream",
     "text": [
      "Отрезок и многоугольник пересекаются\n"
     ]
    }
   ],
   "source": [
    "segment = LineString([(0, 0), (3, 2)])\n",
    "\n",
    "# Задаём многоугольник (список вершин, последний автоматически связывается с первым)\n",
    "poly = Polygon([\n",
    "    (1, 1),\n",
    "    (2, 1),\n",
    "    (2, 2),\n",
    "    (1, 2),\n",
    "])\n",
    "\n",
    "# Проверяем, пересекаются ли\n",
    "if segment.intersects(poly):\n",
    "    print(\"Отрезок и многоугольник пересекаются\")\n",
    "else:\n",
    "    print(\"Не пересекаются\")\n"
   ]
  },
  {
   "cell_type": "code",
   "execution_count": 8,
   "metadata": {},
   "outputs": [
    {
     "data": {
      "image/svg+xml": [
       "<svg xmlns=\"http://www.w3.org/2000/svg\" xmlns:xlink=\"http://www.w3.org/1999/xlink\" width=\"100.0\" height=\"100.0\" viewBox=\"-0.36 0.64 1.7199999999999998 9.719999999999999\" preserveAspectRatio=\"xMinYMin meet\"><g transform=\"matrix(1,0,0,-1,0,11.0)\"><polyline fill=\"none\" stroke=\"#66cc99\" stroke-width=\"0.1944\" points=\"0.0,1.0 1.0,10.0\" opacity=\"0.8\" /></g></svg>"
      ],
      "text/plain": [
       "<LINESTRING (0 1, 1 10)>"
      ]
     },
     "execution_count": 8,
     "metadata": {},
     "output_type": "execute_result"
    }
   ],
   "source": [
    "line = LineString([[0, 1], [1, 10]])\n",
    "line"
   ]
  }
 ],
 "metadata": {
  "kernelspec": {
   "display_name": ".venv",
   "language": "python",
   "name": "python3"
  },
  "language_info": {
   "codemirror_mode": {
    "name": "ipython",
    "version": 3
   },
   "file_extension": ".py",
   "mimetype": "text/x-python",
   "name": "python",
   "nbconvert_exporter": "python",
   "pygments_lexer": "ipython3",
   "version": "3.13.1"
  }
 },
 "nbformat": 4,
 "nbformat_minor": 2
}
